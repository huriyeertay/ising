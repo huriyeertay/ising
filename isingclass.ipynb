{
 "cells": [
  {
   "cell_type": "code",
   "execution_count": 66,
   "metadata": {},
   "outputs": [],
   "source": [
    "import numpy as np\n",
    "import matplotlib.pyplot as plt\n",
    "from tqdm import tqdm\n",
    "from icecream import ic\n",
    "import os"
   ]
  },
  {
   "cell_type": "code",
   "execution_count": 67,
   "metadata": {},
   "outputs": [],
   "source": [
    "class IsingLattice:\n",
    "\n",
    "    def __init__(self, lattice_size, j1, j2):\n",
    "        self.lattice_size = lattice_size\n",
    "        self.num_sites = lattice_size*lattice_size\n",
    "        self.j1 = j1\n",
    "        self.j2 = j2\n",
    "\n",
    "        lattice_state = np.random.randint(2, size=(lattice_size,lattice_size))\n",
    "        self.lattice_state = np.where(lattice_state==0,-1,1)\n",
    "\n",
    "    def plot_state(self):\n",
    "        plt.imshow(self.lattice_state)\n",
    "        plt.axis(\"off\")\n",
    "\n",
    "    def flip_spin(self,i,j):\n",
    "        self.lattice_state[i,j]*= -1\n",
    "\n",
    "    def print_info(self):\n",
    "        print(\"Lattice Size = \",self.lattice_size)\n",
    "        print(\"j1 = \",self.j1)\n",
    "        print(\"j2 = \",self.j2)\n",
    "        print(\"Total number of spins = \",self.num_sites)\n",
    "\n",
    "    def spin_energy(self,i,j):\n",
    "        # Define nearest neighbour interaction\n",
    "        l=self.lattice_size\n",
    "        spin_ij = self.lattice_state[i,j]\n",
    "        nearest_up = self.lattice_state[(i-1)%l,j]\n",
    "        nearest_down = self.lattice_state[(i+1)%l,j]\n",
    "        nearest_left = self.lattice_state[i,(j-1)%l]\n",
    "        nearest_right = self.lattice_state[i,(j+1)%l]\n",
    "\n",
    "        sum_nearest_neighbour = nearest_down + nearest_left + nearest_right + nearest_up\n",
    "\n",
    "        # Define second nearest neighbour interaction\n",
    "        right_up = self.lattice_state[(i-1)%l,(j+1)%l]\n",
    "        right_down = self.lattice_state[(i+1)%l,(j-1)%l]\n",
    "        left_up = self.lattice_state[(i-1)%l,(j-1)%l]\n",
    "        left_down = self.lattice_state[(i+1)%l,(j+1)%l]\n",
    "\n",
    "        sum_second_nearest_neighbour = right_down + right_up + left_down + left_up\n",
    "        # Define total Ising energy of spin E = j1 * sum(no of nearest neighbour) + j2 * sum(no of second nearest neigbour)\n",
    "        if self.j2 == 0:\n",
    "            spin_energy = (-self.j1 * sum_nearest_neighbour * spin_ij)\n",
    "        else:\n",
    "            spin_energy = (-self.j1 * sum_nearest_neighbour * spin_ij) + (-self.j2 * sum_second_nearest_neighbour * spin_ij)\n",
    "\n",
    "        return spin_energy\n",
    "    \n",
    "    def total_energy(self):\n",
    "        #total energy of all spins, but we divide it to no of spins at the end to normalize the energy, we also divide by 2 two to prevent repetition\n",
    "        total_energy = 0\n",
    "        for i in range(self.lattice_size):\n",
    "            for j in range(self.lattice_size):\n",
    "                total_energy += self.spin_energy(i,j)\n",
    "        \n",
    "        return total_energy/2.0/self.num_sites\n",
    "    \n",
    "    def spin_mag(self):\n",
    "    #Magnetization is 1/number of spins * total of spins (include nominal value of state (-1,1))\n",
    "        return self.lattice_state.sum() / self.num_sites\n"
   ]
  },
  {
   "cell_type": "code",
   "execution_count": 68,
   "metadata": {},
   "outputs": [
    {
     "name": "stdout",
     "output_type": "stream",
     "text": [
      "Lattice Size =  30\n",
      "j1 =  1\n",
      "j2 =  0\n",
      "Total number of spins =  900\n"
     ]
    }
   ],
   "source": [
    "test_lattice = IsingLattice(30,1,0)\n",
    "test_lattice.num_sites\n",
    "test_lattice.print_info()"
   ]
  },
  {
   "cell_type": "code",
   "execution_count": 69,
   "metadata": {},
   "outputs": [
    {
     "name": "stdout",
     "output_type": "stream",
     "text": [
      "2\n"
     ]
    },
    {
     "data": {
      "image/png": "[encoded data removed]",
      "text/plain": [
       "<Figure size 432x288 with 1 Axes>"
      ]
     },
     "metadata": {
      "needs_background": "light"
     },
     "output_type": "display_data"
    }
   ],
   "source": [
    "print(test_lattice.spin_energy(1,1))\n",
    "test_lattice.plot_state()"
   ]
  },
  {
   "cell_type": "code",
   "execution_count": 70,
   "metadata": {},
   "outputs": [
    {
     "name": "stdout",
     "output_type": "stream",
     "text": [
      "-2\n"
     ]
    },
    {
     "data": {
      "image/png": "[encoded data removed]",
      "text/plain": [
       "<Figure size 432x288 with 1 Axes>"
      ]
     },
     "metadata": {
      "needs_background": "light"
     },
     "output_type": "display_data"
    }
   ],
   "source": [
    "test_lattice.flip_spin(1,1)\n",
    "test_lattice.plot_state()\n",
    "print(test_lattice.spin_energy(1,1))"
   ]
  },
  {
   "cell_type": "code",
   "execution_count": 71,
   "metadata": {},
   "outputs": [
    {
     "data": {
      "text/plain": [
       "0"
      ]
     },
     "execution_count": 71,
     "metadata": {},
     "output_type": "execute_result"
    }
   ],
   "source": [
    "test_lattice.spin_energy(0,1)"
   ]
  },
  {
   "cell_type": "code",
   "execution_count": 72,
   "metadata": {},
   "outputs": [
    {
     "data": {
      "text/plain": [
       "0.0"
      ]
     },
     "execution_count": 72,
     "metadata": {},
     "output_type": "execute_result"
    }
   ],
   "source": [
    "test_lattice.total_energy()"
   ]
  },
  {
   "cell_type": "code",
   "execution_count": 73,
   "metadata": {},
   "outputs": [
    {
     "name": "stdout",
     "output_type": "stream",
     "text": [
      "Energy is 0.0\n",
      "Magnetization is -0.03333333333333333\n"
     ]
    }
   ],
   "source": [
    "print(\"Energy is\",test_lattice.total_energy())\n",
    "print(\"Magnetization is\",test_lattice.spin_mag())"
   ]
  },
  {
   "cell_type": "code",
   "execution_count": 74,
   "metadata": {},
   "outputs": [],
   "source": [
    "#Metropolis Algorithm \n",
    "def sweep_lattice(lattice:IsingLattice,T):\n",
    "    '''\n",
    "    Scan the lattice once ly, flip the spin if Metropolis criterion holds: if energy<=0 or generated random number<np.exp(-energy_change/temperature)\n",
    "    '''\n",
    "\n",
    "    flip_count = 0\n",
    "    no_flip_count = 0\n",
    "\n",
    "    for x in range(lattice.num_sites):\n",
    "        i, j = np.random.randint(lattice.lattice_size, size=2)\n",
    "        energy_initial = lattice.spin_energy(i,j)\n",
    "        lattice.flip_spin(i,j)\n",
    "        energy_flipped = lattice.spin_energy(i,j)\n",
    "        exchange_energy = energy_flipped - energy_initial\n",
    "        lattice.flip_spin(i,j)\n",
    "        if exchange_energy <= 0 or \\\n",
    "            np.random.random()<=np.exp(-exchange_energy/T):\n",
    "            lattice.flip_spin(i,j)\n"
   ]
  },
  {
   "cell_type": "code",
   "execution_count": 75,
   "metadata": {},
   "outputs": [],
   "source": [
    "def thermalize(lattice:IsingLattice,sweep_num,T_hot,T_cold):\n",
    "    #thermalize dedigimiz iki T arasini yuksek sayida parcaya bolup rate of T change i azaltmak\n",
    "    for T in np.linspace(T_hot, T_cold, sweep_num):\n",
    "        sweep_lattice(lattice, T)"
   ]
  },
  {
   "cell_type": "code",
   "execution_count": 76,
   "metadata": {},
   "outputs": [],
   "source": [
    "thermalize(test_lattice, 10000, 100,3)"
   ]
  },
  {
   "cell_type": "code",
   "execution_count": 77,
   "metadata": {},
   "outputs": [
    {
     "data": {
      "image/png": "[encoded data removed]",
      "text/plain": [
       "<Figure size 432x288 with 1 Axes>"
      ]
     },
     "metadata": {
      "needs_background": "light"
     },
     "output_type": "display_data"
    }
   ],
   "source": [
    "test_lattice.plot_state()"
   ]
  },
  {
   "cell_type": "code",
   "execution_count": 78,
   "metadata": {},
   "outputs": [
    {
     "ename": "KeyboardInterrupt",
     "evalue": "",
     "output_type": "error",
     "traceback": [
      "\u001b[0;31m---------------------------------------------------------------------------\u001b[0m",
      "\u001b[0;31mKeyboardInterrupt\u001b[0m                         Traceback (most recent call last)",
      "\u001b[1;32m/Users/huriyeertay/Desktop/project_ising/isingclass.ipynb Cell 13\u001b[0m in \u001b[0;36m<cell line: 1>\u001b[0;34m()\u001b[0m\n\u001b[0;32m----> <a href='vscode-notebook-cell:/Users/huriyeertay/Desktop/project_ising/isingclass.ipynb#X15sZmlsZQ%3D%3D?line=0'>1</a>\u001b[0m thermalize(test_lattice, \u001b[39m10000\u001b[39;49m, \u001b[39m3\u001b[39;49m,\u001b[39m2.5\u001b[39;49m)\n",
      "\u001b[1;32m/Users/huriyeertay/Desktop/project_ising/isingclass.ipynb Cell 13\u001b[0m in \u001b[0;36mthermalize\u001b[0;34m(lattice, sweep_num, T_hot, T_cold)\u001b[0m\n\u001b[1;32m      <a href='vscode-notebook-cell:/Users/huriyeertay/Desktop/project_ising/isingclass.ipynb#X15sZmlsZQ%3D%3D?line=0'>1</a>\u001b[0m \u001b[39mdef\u001b[39;00m \u001b[39mthermalize\u001b[39m(lattice:IsingLattice,sweep_num,T_hot,T_cold):\n\u001b[1;32m      <a href='vscode-notebook-cell:/Users/huriyeertay/Desktop/project_ising/isingclass.ipynb#X15sZmlsZQ%3D%3D?line=1'>2</a>\u001b[0m     \u001b[39m#thermalize dedigimiz iki T arasini yuksek sayida parcaya bolup rate of T change i azaltmak\u001b[39;00m\n\u001b[1;32m      <a href='vscode-notebook-cell:/Users/huriyeertay/Desktop/project_ising/isingclass.ipynb#X15sZmlsZQ%3D%3D?line=2'>3</a>\u001b[0m     \u001b[39mfor\u001b[39;00m T \u001b[39min\u001b[39;00m np\u001b[39m.\u001b[39mlinspace(T_hot, T_cold, sweep_num):\n\u001b[0;32m----> <a href='vscode-notebook-cell:/Users/huriyeertay/Desktop/project_ising/isingclass.ipynb#X15sZmlsZQ%3D%3D?line=3'>4</a>\u001b[0m         sweep_lattice(lattice, T)\n",
      "\u001b[1;32m/Users/huriyeertay/Desktop/project_ising/isingclass.ipynb Cell 13\u001b[0m in \u001b[0;36msweep_lattice\u001b[0;34m(lattice, T)\u001b[0m\n\u001b[1;32m      <a href='vscode-notebook-cell:/Users/huriyeertay/Desktop/project_ising/isingclass.ipynb#X15sZmlsZQ%3D%3D?line=7'>8</a>\u001b[0m no_flip_count \u001b[39m=\u001b[39m \u001b[39m0\u001b[39m\n\u001b[1;32m     <a href='vscode-notebook-cell:/Users/huriyeertay/Desktop/project_ising/isingclass.ipynb#X15sZmlsZQ%3D%3D?line=9'>10</a>\u001b[0m \u001b[39mfor\u001b[39;00m x \u001b[39min\u001b[39;00m \u001b[39mrange\u001b[39m(lattice\u001b[39m.\u001b[39mnum_sites):\n\u001b[0;32m---> <a href='vscode-notebook-cell:/Users/huriyeertay/Desktop/project_ising/isingclass.ipynb#X15sZmlsZQ%3D%3D?line=10'>11</a>\u001b[0m     i, j \u001b[39m=\u001b[39m np\u001b[39m.\u001b[39;49mrandom\u001b[39m.\u001b[39;49mrandint(lattice\u001b[39m.\u001b[39;49mlattice_size, size\u001b[39m=\u001b[39;49m\u001b[39m2\u001b[39;49m)\n\u001b[1;32m     <a href='vscode-notebook-cell:/Users/huriyeertay/Desktop/project_ising/isingclass.ipynb#X15sZmlsZQ%3D%3D?line=11'>12</a>\u001b[0m     energy_initial \u001b[39m=\u001b[39m lattice\u001b[39m.\u001b[39mspin_energy(i,j)\n\u001b[1;32m     <a href='vscode-notebook-cell:/Users/huriyeertay/Desktop/project_ising/isingclass.ipynb#X15sZmlsZQ%3D%3D?line=12'>13</a>\u001b[0m     lattice\u001b[39m.\u001b[39mflip_spin(i,j)\n",
      "File \u001b[0;32mmtrand.pyx:748\u001b[0m, in \u001b[0;36mnumpy.random.mtrand.RandomState.randint\u001b[0;34m()\u001b[0m\n",
      "File \u001b[0;32m_bounded_integers.pyx:1228\u001b[0m, in \u001b[0;36mnumpy.random._bounded_integers._rand_int64\u001b[0;34m()\u001b[0m\n",
      "File \u001b[0;32m<__array_function__ internals>:180\u001b[0m, in \u001b[0;36mprod\u001b[0;34m(*args, **kwargs)\u001b[0m\n",
      "File \u001b[0;32m~/miniconda3/envs/subat/lib/python3.9/site-packages/numpy/core/fromnumeric.py:3045\u001b[0m, in \u001b[0;36mprod\u001b[0;34m(a, axis, dtype, out, keepdims, initial, where)\u001b[0m\n\u001b[1;32m   2927\u001b[0m \u001b[39m@array_function_dispatch\u001b[39m(_prod_dispatcher)\n\u001b[1;32m   2928\u001b[0m \u001b[39mdef\u001b[39;00m \u001b[39mprod\u001b[39m(a, axis\u001b[39m=\u001b[39m\u001b[39mNone\u001b[39;00m, dtype\u001b[39m=\u001b[39m\u001b[39mNone\u001b[39;00m, out\u001b[39m=\u001b[39m\u001b[39mNone\u001b[39;00m, keepdims\u001b[39m=\u001b[39mnp\u001b[39m.\u001b[39m_NoValue,\n\u001b[1;32m   2929\u001b[0m          initial\u001b[39m=\u001b[39mnp\u001b[39m.\u001b[39m_NoValue, where\u001b[39m=\u001b[39mnp\u001b[39m.\u001b[39m_NoValue):\n\u001b[1;32m   2930\u001b[0m     \u001b[39m\"\"\"\u001b[39;00m\n\u001b[1;32m   2931\u001b[0m \u001b[39m    Return the product of array elements over a given axis.\u001b[39;00m\n\u001b[1;32m   2932\u001b[0m \n\u001b[0;32m   (...)\u001b[0m\n\u001b[1;32m   3043\u001b[0m \u001b[39m    10\u001b[39;00m\n\u001b[1;32m   3044\u001b[0m \u001b[39m    \"\"\"\u001b[39;00m\n\u001b[0;32m-> 3045\u001b[0m     \u001b[39mreturn\u001b[39;00m _wrapreduction(a, np\u001b[39m.\u001b[39;49mmultiply, \u001b[39m'\u001b[39;49m\u001b[39mprod\u001b[39;49m\u001b[39m'\u001b[39;49m, axis, dtype, out,\n\u001b[1;32m   3046\u001b[0m                           keepdims\u001b[39m=\u001b[39;49mkeepdims, initial\u001b[39m=\u001b[39;49minitial, where\u001b[39m=\u001b[39;49mwhere)\n",
      "File \u001b[0;32m~/miniconda3/envs/subat/lib/python3.9/site-packages/numpy/core/fromnumeric.py:86\u001b[0m, in \u001b[0;36m_wrapreduction\u001b[0;34m(obj, ufunc, method, axis, dtype, out, **kwargs)\u001b[0m\n\u001b[1;32m     83\u001b[0m         \u001b[39melse\u001b[39;00m:\n\u001b[1;32m     84\u001b[0m             \u001b[39mreturn\u001b[39;00m reduction(axis\u001b[39m=\u001b[39maxis, out\u001b[39m=\u001b[39mout, \u001b[39m*\u001b[39m\u001b[39m*\u001b[39mpasskwargs)\n\u001b[0;32m---> 86\u001b[0m \u001b[39mreturn\u001b[39;00m ufunc\u001b[39m.\u001b[39;49mreduce(obj, axis, dtype, out, \u001b[39m*\u001b[39;49m\u001b[39m*\u001b[39;49mpasskwargs)\n",
      "\u001b[0;31mKeyboardInterrupt\u001b[0m: "
     ]
    }
   ],
   "source": [
    "thermalize(test_lattice, 10000, 3,2.5)"
   ]
  },
  {
   "cell_type": "code",
   "execution_count": null,
   "metadata": {},
   "outputs": [
    {
     "data": {
      "image/png": "[encoded data removed]",
      "text/plain": [
       "<Figure size 432x288 with 1 Axes>"
      ]
     },
     "metadata": {
      "needs_background": "light"
     },
     "output_type": "display_data"
    }
   ],
   "source": [
    "test_lattice.plot_state()"
   ]
  },
  {
   "cell_type": "code",
   "execution_count": null,
   "metadata": {},
   "outputs": [
    {
     "name": "stderr",
     "output_type": "stream",
     "text": [
      "100%|██████████| 10000/10000 [06:19<00:00, 26.33it/s]\n"
     ]
    }
   ],
   "source": [
    "thermalize(test_lattice, 10000, 2.5,2.26)"
   ]
  },
  {
   "cell_type": "code",
   "execution_count": null,
   "metadata": {},
   "outputs": [
    {
     "data": {
      "image/png": "[encoded data removed]",
      "text/plain": [
       "<Figure size 432x288 with 1 Axes>"
      ]
     },
     "metadata": {
      "needs_background": "light"
     },
     "output_type": "display_data"
    }
   ],
   "source": [
    "test_lattice.plot_state()"
   ]
  },
  {
   "cell_type": "code",
   "execution_count": null,
   "metadata": {},
   "outputs": [
    {
     "name": "stderr",
     "output_type": "stream",
     "text": [
      "100%|██████████| 10000/10000 [06:32<00:00, 25.45it/s]\n"
     ]
    }
   ],
   "source": [
    "thermalize(test_lattice, 10000, 2.26,1.5)"
   ]
  },
  {
   "cell_type": "code",
   "execution_count": null,
   "metadata": {},
   "outputs": [
    {
     "data": {
      "image/png": "[encoded data removed]",
      "text/plain": [
       "<Figure size 432x288 with 1 Axes>"
      ]
     },
     "metadata": {
      "needs_background": "light"
     },
     "output_type": "display_data"
    }
   ],
   "source": [
    "test_lattice.plot_state()"
   ]
  },
  {
   "cell_type": "code",
   "execution_count": null,
   "metadata": {},
   "outputs": [],
   "source": [
    "def mc_simulation(lattice:IsingLattice, T:np.array, num_sweeps, save_data = True):\n",
    "    energy = []\n",
    "    magnetization = []\n",
    "    lattice_states = []\n",
    "    file_name = f'L_{lattice.lattice_size}_J1_{lattice.j1:.1f}_J2_{lattice.j2:.3f}'\n",
    "    os.makedirs(file_name, exist_ok=True)\n",
    "\n",
    "    thermalize(lattice, 1000, 100, T[0])\n",
    "    # Get data for T[0]\n",
    "    sweep_lattice(lattice, T[0])\n",
    "    energy.append(lattice.total_energy())\n",
    "    magnetization.append(lattice.spin_mag())\n",
    "    lattice_states.append(lattice.lattice_state)\n",
    "   \n",
    "    if save_data:\n",
    "        plt.imshow(lattice.lattice_state)\n",
    "        plt.axis('off')\n",
    "        plt.savefig(file_name + \"/\" + file_name + f'_T_{T[0]:.3f}.png')\n",
    "        plt.close()\n",
    "\n",
    "    for i in tqdm(range(T.size-1)):\n",
    "        thermalize(lattice,1000, T[i], T[i+1])\n",
    "        # Now we want to collect data\n",
    "        sweep_lattice(lattice, T[i+1])\n",
    "        energy.append(lattice.total_energy())\n",
    "        magnetization.append(lattice.spin_mag())\n",
    "        lattice_states.append(lattice.lattice_state)\n",
    "        if save_data:\n",
    "            plt.imshow(lattice.lattice_state)\n",
    "            plt.axis('off')\n",
    "            plt.savefig(file_name + \"/\" +file_name + f'_T_{T[i+1]:.3f}.png')\n",
    "            plt.close()\n",
    "\n",
    "    energy = np.asarray(energy)\n",
    "    magnetization = np.asarray(magnetization)\n",
    "    lattice_states = np.asarray(lattice_states)\n",
    "    print('Simulation done.')\n",
    "    if save_data:\n",
    "        print('Saving data...')\n",
    "        np.savetxt(file_name + \"/\" +file_name + '_energy.txt', energy, delimiter=',')\n",
    "        np.savetxt(file_name + \"/\" +file_name + '_magnetization.txt', magnetization, delimiter=',')\n",
    "    return energy, magnetization, lattice_states"
   ]
  },
  {
   "cell_type": "code",
   "execution_count": null,
   "metadata": {},
   "outputs": [],
   "source": [
    "test_lattice_2 = IsingLattice(30, 1, 0)\n",
    "T = np.arange(4,0.95,-0.05)"
   ]
  },
  {
   "cell_type": "code",
   "execution_count": null,
   "metadata": {},
   "outputs": [
    {
     "name": "stderr",
     "output_type": "stream",
     "text": [
      "100%|██████████| 40/40 [54:33<00:00, 81.83s/it]"
     ]
    },
    {
     "name": "stdout",
     "output_type": "stream",
     "text": [
      "Simulation done.\n",
      "Saving data...\n"
     ]
    },
    {
     "name": "stderr",
     "output_type": "stream",
     "text": [
      "\n"
     ]
    }
   ],
   "source": [
    "ene, mag, lat = mc_simulation(test_lattice_2,T,1000, save_data=True)"
   ]
  },
  {
   "cell_type": "code",
   "execution_count": null,
   "metadata": {},
   "outputs": [
    {
     "data": {
      "text/plain": [
       "<matplotlib.collections.PathCollection at 0x7fb718633370>"
      ]
     },
     "execution_count": 52,
     "metadata": {},
     "output_type": "execute_result"
    },
    {
     "data": {
      "image/png": "[encoded data removed]",
      "text/plain": [
       "<Figure size 432x288 with 1 Axes>"
      ]
     },
     "metadata": {
      "needs_background": "light"
     },
     "output_type": "display_data"
    }
   ],
   "source": [
    "plt.scatter(T,ene)"
   ]
  },
  {
   "cell_type": "code",
   "execution_count": null,
   "metadata": {},
   "outputs": [
    {
     "data": {
      "text/plain": [
       "<matplotlib.collections.PathCollection at 0x7fb71c06cfa0>"
      ]
     },
     "execution_count": 54,
     "metadata": {},
     "output_type": "execute_result"
    },
    {
     "data": {
      "image/png": "[encoded data removed]",
      "text/plain": [
       "<Figure size 432x288 with 1 Axes>"
      ]
     },
     "metadata": {
      "needs_background": "light"
     },
     "output_type": "display_data"
    }
   ],
   "source": [
    "plt.scatter(T,np.abs(mag))"
   ]
  },
  {
   "cell_type": "code",
   "execution_count": null,
   "metadata": {},
   "outputs": [],
   "source": []
  }
 ],
 "metadata": {
  "kernelspec": {
   "display_name": "subat",
   "language": "python",
   "name": "python3"
  },
  "language_info": {
   "codemirror_mode": {
    "name": "ipython",
    "version": 3
   },
   "file_extension": ".py",
   "mimetype": "text/x-python",
   "name": "python",
   "nbconvert_exporter": "python",
   "pygments_lexer": "ipython3",
   "version": "3.9.16"
  },
  "orig_nbformat": 4,
  "vscode": {
   "interpreter": {
    "hash": "7bc6fc9399d27a6d05472b638dd62bf4b5f9c0f4e6eab6c334461b998306512a"
   }
  }
 },
 "nbformat": 4,
 "nbformat_minor": 2
}
