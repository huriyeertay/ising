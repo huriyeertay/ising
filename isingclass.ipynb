{
 "cells": [
  {
   "cell_type": "code",
   "execution_count": 1,
   "metadata": {},
   "outputs": [],
   "source": [
    "import numpy as np\n",
    "import matplotlib.pyplot as plt\n",
    "from tqdm import tqdm\n",
    "from icecream import ic\n",
    "import os"
   ]
  },
  {
   "cell_type": "code",
   "execution_count": 2,
   "metadata": {},
   "outputs": [],
   "source": [
    "class IsingLattice:\n",
    "\n",
    "    def __init__(self, lattice_size, j1, j2):\n",
    "        self.lattice_size = lattice_size\n",
    "        self.num_sites = lattice_size*lattice_size\n",
    "        self.j1 = j1\n",
    "        self.j2 = j2\n",
    "\n",
    "        lattice_state = np.random.randint(2, size=(lattice_size,lattice_size))\n",
    "        self.lattice_state = np.where(lattice_state==0,-1,1)\n",
    "\n",
    "    def plot_state(self):\n",
    "        plt.imshow(self.lattice_state)\n",
    "        plt.axis(\"off\")\n",
    "\n",
    "    def flip_spin(self,i,j):\n",
    "        self.lattice_state[i,j]*= -1\n",
    "\n",
    "    def print_info(self):\n",
    "        print(\"Lattice Size = \",self.lattice_size)\n",
    "        print(\"j1 = \",self.j1)\n",
    "        print(\"j2 = \",self.j2)\n",
    "        print(\"Total number of spins = \",self.num_sites)\n",
    "\n",
    "    def spin_energy(self,i,j):\n",
    "        # Define nearest neighbour interaction\n",
    "        l=self.lattice_size\n",
    "        spin_ij = self.lattice_state[i,j]\n",
    "        nearest_up = self.lattice_state[(i-1)%l,j]\n",
    "        nearest_down = self.lattice_state[(i+1)%l,j]\n",
    "        nearest_left = self.lattice_state[i,(j-1)%l]\n",
    "        nearest_right = self.lattice_state[i,(j+1)%l]\n",
    "\n",
    "        sum_nearest_neighbour = nearest_down + nearest_left + nearest_right + nearest_up\n",
    "\n",
    "        # Define second nearest neighbour interaction\n",
    "        right_up = self.lattice_state[(i-1)%l,(j+1)%l]\n",
    "        right_down = self.lattice_state[(i+1)%l,(j-1)%l]\n",
    "        left_up = self.lattice_state[(i-1)%l,(j-1)%l]\n",
    "        left_down = self.lattice_state[(i+1)%l,(j+1)%l]\n",
    "\n",
    "        sum_second_nearest_neighbour = right_down + right_up + left_down + left_up\n",
    "        # Define total Ising energy of spin E = j1 * sum(no of nearest neighbour) + j2 * sum(no of second nearest neigbour)\n",
    "        if self.j2 == 0:\n",
    "            spin_energy = (-self.j1 * sum_nearest_neighbour * spin_ij)\n",
    "        else:\n",
    "            spin_energy = (-self.j1 * sum_nearest_neighbour * spin_ij) + (-self.j2 * sum_second_nearest_neighbour * spin_ij)\n",
    "\n",
    "        return spin_energy\n",
    "    \n",
    "    def total_energy(self):\n",
    "        #total energy of all spins, but we divide it to no of spins at the end to normalize the energy, we also divide by 2 two to prevent repetition\n",
    "        total_energy = 0\n",
    "        for i in range(self.lattice_size):\n",
    "            for j in range(self.lattice_size):\n",
    "                total_energy += self.spin_energy(i,j)\n",
    "        \n",
    "        return total_energy/2.0/self.num_sites\n",
    "    \n",
    "    def spin_mag(self):\n",
    "    #Magnetization is 1/number of spins * total of spins (include nominal value of state (-1,1))\n",
    "        return self.lattice_state.sum() / self.num_sites\n"
   ]
  },
  {
   "cell_type": "code",
   "execution_count": 3,
   "metadata": {},
   "outputs": [
    {
     "name": "stdout",
     "output_type": "stream",
     "text": [
      "Lattice Size =  30\n",
      "j1 =  1\n",
      "j2 =  0\n",
      "Total number of spins =  900\n"
     ]
    }
   ],
   "source": [
    "test_lattice = IsingLattice(30,1,0)\n",
    "test_lattice.num_sites\n",
    "test_lattice.print_info()"
   ]
  },
  {
   "cell_type": "code",
   "execution_count": 4,
   "metadata": {},
   "outputs": [
    {
     "name": "stdout",
     "output_type": "stream",
     "text": [
      "0\n"
     ]
    },
    {
     "data": {
      "image/png": "[encoded data removed]",
      "text/plain": [
       "<Figure size 432x288 with 1 Axes>"
      ]
     },
     "metadata": {
      "needs_background": "light"
     },
     "output_type": "display_data"
    }
   ],
   "source": [
    "print(test_lattice.spin_energy(1,1))\n",
    "test_lattice.plot_state()"
   ]
  },
  {
   "cell_type": "code",
   "execution_count": 5,
   "metadata": {},
   "outputs": [
    {
     "data": {
      "text/plain": [
       "-4"
      ]
     },
     "execution_count": 5,
     "metadata": {},
     "output_type": "execute_result"
    }
   ],
   "source": [
    "test_lattice.spin_energy(0,1)"
   ]
  },
  {
   "cell_type": "code",
   "execution_count": 6,
   "metadata": {},
   "outputs": [
    {
     "data": {
      "text/plain": [
       "-0.017777777777777778"
      ]
     },
     "execution_count": 6,
     "metadata": {},
     "output_type": "execute_result"
    }
   ],
   "source": [
    "test_lattice.total_energy()"
   ]
  },
  {
   "cell_type": "code",
   "execution_count": 7,
   "metadata": {},
   "outputs": [
    {
     "name": "stdout",
     "output_type": "stream",
     "text": [
      "Energy is -0.017777777777777778\n",
      "Magnetization is 0.05555555555555555\n"
     ]
    }
   ],
   "source": [
    "print(\"Energy is\",test_lattice.total_energy())\n",
    "print(\"Magnetization is\",test_lattice.spin_mag())"
   ]
  },
  {
   "cell_type": "code",
   "execution_count": 8,
   "metadata": {},
   "outputs": [],
   "source": [
    "#Metropolis Algorithm \n",
    "def sweep_lattice(lattice:IsingLattice,T):\n",
    "    '''\n",
    "    Scan the lattice once ly, flip the spin if Metropolis criterion holds: if energy<=0 or generated random number<np.exp(-energy_change/temperature)\n",
    "    '''\n",
    "\n",
    "    flip_count = 0\n",
    "    no_flip_count = 0\n",
    "\n",
    "    for x in range(lattice.num_sites):\n",
    "        i, j = np.random.randint(lattice.lattice_size, size=2)\n",
    "        energy_initial = lattice.spin_energy(i,j)\n",
    "        lattice.flip_spin(i,j)\n",
    "        energy_flipped = lattice.spin_energy(i,j)\n",
    "        exchange_energy = energy_flipped - energy_initial\n",
    "        lattice.flip_spin(i,j)\n",
    "        if exchange_energy <= 0 or \\\n",
    "            np.random.random()<=np.exp(-exchange_energy/T):\n",
    "            lattice.flip_spin(i,j)\n"
   ]
  },
  {
   "cell_type": "code",
   "execution_count": 9,
   "metadata": {},
   "outputs": [],
   "source": [
    "def thermalize(lattice:IsingLattice,sweep_num,T_hot,T_cold):\n",
    "    #thermalize dedigimiz iki T arasini yuksek sayida parcaya bolup rate of T change i azaltmak\n",
    "    for T in np.linspace(T_hot, T_cold, sweep_num):\n",
    "        sweep_lattice(lattice, T)"
   ]
  },
  {
   "cell_type": "code",
   "execution_count": 11,
   "metadata": {},
   "outputs": [],
   "source": [
    "def sweep_lattice_n_times(lattice, T, num_sweep):\n",
    "    for _ in range(num_sweep):\n",
    "        sweep_lattice(lattice=lattice, T=T)"
   ]
  },
  {
   "cell_type": "code",
   "execution_count": 10,
   "metadata": {},
   "outputs": [],
   "source": [
    "def save_img(lattice_state, save_file_name):\n",
    "    plt.imshow(lattice_state)\n",
    "    plt.axis('off')\n",
    "    plt.savefig(save_file_name)\n",
    "    plt.close()"
   ]
  },
  {
   "cell_type": "code",
   "execution_count": 15,
   "metadata": {},
   "outputs": [],
   "source": [
    "def mc_simulation(lattice:IsingLattice, T:np.array, num_sweeps, num_sample):\n",
    "    # Get data for T[0]\n",
    "    # energy needs to be dimension -> (T.size, num_sample)\n",
    "    # First row of this would be energy values at T[0]\n",
    "    energy = np.zeros((T.size, num_sample))\n",
    "    magnetization = np.zeros((T.size, num_sample))\n",
    "\n",
    "    file_name = f'L_{lattice.lattice_size}_J1_{lattice.j1:.1f}_J2_{lattice.j2:.3f}'\n",
    "    os.makedirs(file_name, exist_ok=True)\n",
    "\n",
    "    thermalize(lattice, 1000, 100, T[0])\n",
    "\n",
    "    for n in range(num_sample):\n",
    "        sweep_lattice_n_times(lattice, T[0], num_sweep=num_sweeps)\n",
    "        save_img(lattice_state=lattice.lattice_state, save_file_name=file_name + \"/\" + file_name + f'_T_{T[0]:.3f}_n_{n}.png')\n",
    "        energy[0,n] = lattice.total_energy()\n",
    "        magnetization[0,n] = lattice.spin_mag()\n",
    "\n",
    "    for i in tqdm(range(T.size-1)):\n",
    "        thermalize(lattice,1000, T[i], T[i+1])\n",
    "        # Now we want to collect data\n",
    "        for n in range(num_sample):\n",
    "            sweep_lattice_n_times(lattice, T[i+1], num_sweep=num_sweeps)\n",
    "            save_img(lattice_state=lattice.lattice_state, save_file_name=file_name + \"/\" + file_name + f'_T_{T[i+1]:.3f}_n_{n}.png')\n",
    "            energy[i+1,n] = lattice.total_energy()\n",
    "            magnetization[i+1,n] = lattice.spin_mag()\n",
    "            \n",
    "    print('Simulation done.')\n",
    "\n",
    "    print('Saving data...')\n",
    "    np.savetxt(file_name + \"/\" +file_name + '_energy.csv', energy, delimiter=',')\n",
    "    np.savetxt(file_name + \"/\" +file_name + '_magnetization.csv', magnetization, delimiter=',')\n",
    "    return energy, magnetization"
   ]
  },
  {
   "cell_type": "code",
   "execution_count": 17,
   "metadata": {},
   "outputs": [],
   "source": [
    "test_lattice_2 = IsingLattice(10, 1, 0)\n",
    "T = np.arange(4,0.95,-0.05)"
   ]
  },
  {
   "cell_type": "code",
   "execution_count": 18,
   "metadata": {},
   "outputs": [
    {
     "name": "stderr",
     "output_type": "stream",
     "text": [
      "  5%|▌         | 3/60 [01:20<25:31, 26.86s/it]\n"
     ]
    },
    {
     "ename": "KeyboardInterrupt",
     "evalue": "",
     "output_type": "error",
     "traceback": [
      "\u001b[0;31m---------------------------------------------------------------------------\u001b[0m",
      "\u001b[0;31mKeyboardInterrupt\u001b[0m                         Traceback (most recent call last)",
      "\u001b[1;32m/Users/huriyeertay/Desktop/project_ising/ising/isingclass.ipynb Cell 14\u001b[0m in \u001b[0;36m<cell line: 1>\u001b[0;34m()\u001b[0m\n\u001b[0;32m----> <a href='vscode-notebook-cell:/Users/huriyeertay/Desktop/project_ising/ising/isingclass.ipynb#X26sZmlsZQ%3D%3D?line=0'>1</a>\u001b[0m ene, mag \u001b[39m=\u001b[39m mc_simulation(lattice\u001b[39m=\u001b[39;49mtest_lattice_2, T\u001b[39m=\u001b[39;49mT,num_sweeps\u001b[39m=\u001b[39;49m\u001b[39m500\u001b[39;49m, num_sample\u001b[39m=\u001b[39;49m\u001b[39m10\u001b[39;49m)\n",
      "\u001b[1;32m/Users/huriyeertay/Desktop/project_ising/ising/isingclass.ipynb Cell 14\u001b[0m in \u001b[0;36mmc_simulation\u001b[0;34m(lattice, T, num_sweeps, num_sample)\u001b[0m\n\u001b[1;32m     <a href='vscode-notebook-cell:/Users/huriyeertay/Desktop/project_ising/ising/isingclass.ipynb#X26sZmlsZQ%3D%3D?line=20'>21</a>\u001b[0m \u001b[39m# Now we want to collect data\u001b[39;00m\n\u001b[1;32m     <a href='vscode-notebook-cell:/Users/huriyeertay/Desktop/project_ising/ising/isingclass.ipynb#X26sZmlsZQ%3D%3D?line=21'>22</a>\u001b[0m \u001b[39mfor\u001b[39;00m n \u001b[39min\u001b[39;00m \u001b[39mrange\u001b[39m(num_sample):\n\u001b[0;32m---> <a href='vscode-notebook-cell:/Users/huriyeertay/Desktop/project_ising/ising/isingclass.ipynb#X26sZmlsZQ%3D%3D?line=22'>23</a>\u001b[0m     sweep_lattice_n_times(lattice, T[i\u001b[39m+\u001b[39;49m\u001b[39m1\u001b[39;49m], num_sweep\u001b[39m=\u001b[39;49mnum_sweeps)\n\u001b[1;32m     <a href='vscode-notebook-cell:/Users/huriyeertay/Desktop/project_ising/ising/isingclass.ipynb#X26sZmlsZQ%3D%3D?line=23'>24</a>\u001b[0m     save_img(lattice_state\u001b[39m=\u001b[39mlattice\u001b[39m.\u001b[39mlattice_state, save_file_name\u001b[39m=\u001b[39mfile_name \u001b[39m+\u001b[39m \u001b[39m\"\u001b[39m\u001b[39m/\u001b[39m\u001b[39m\"\u001b[39m \u001b[39m+\u001b[39m file_name \u001b[39m+\u001b[39m \u001b[39mf\u001b[39m\u001b[39m'\u001b[39m\u001b[39m_T_\u001b[39m\u001b[39m{\u001b[39;00mT[i\u001b[39m+\u001b[39m\u001b[39m1\u001b[39m]\u001b[39m:\u001b[39;00m\u001b[39m.3f\u001b[39m\u001b[39m}\u001b[39;00m\u001b[39m_n_\u001b[39m\u001b[39m{\u001b[39;00mn\u001b[39m}\u001b[39;00m\u001b[39m.png\u001b[39m\u001b[39m'\u001b[39m)\n\u001b[1;32m     <a href='vscode-notebook-cell:/Users/huriyeertay/Desktop/project_ising/ising/isingclass.ipynb#X26sZmlsZQ%3D%3D?line=24'>25</a>\u001b[0m     energy[i\u001b[39m+\u001b[39m\u001b[39m1\u001b[39m,n] \u001b[39m=\u001b[39m lattice\u001b[39m.\u001b[39mtotal_energy()\n",
      "\u001b[1;32m/Users/huriyeertay/Desktop/project_ising/ising/isingclass.ipynb Cell 14\u001b[0m in \u001b[0;36msweep_lattice_n_times\u001b[0;34m(lattice, T, num_sweep)\u001b[0m\n\u001b[1;32m      <a href='vscode-notebook-cell:/Users/huriyeertay/Desktop/project_ising/ising/isingclass.ipynb#X26sZmlsZQ%3D%3D?line=0'>1</a>\u001b[0m \u001b[39mdef\u001b[39;00m \u001b[39msweep_lattice_n_times\u001b[39m(lattice, T, num_sweep):\n\u001b[1;32m      <a href='vscode-notebook-cell:/Users/huriyeertay/Desktop/project_ising/ising/isingclass.ipynb#X26sZmlsZQ%3D%3D?line=1'>2</a>\u001b[0m     \u001b[39mfor\u001b[39;00m _ \u001b[39min\u001b[39;00m \u001b[39mrange\u001b[39m(num_sweep):\n\u001b[0;32m----> <a href='vscode-notebook-cell:/Users/huriyeertay/Desktop/project_ising/ising/isingclass.ipynb#X26sZmlsZQ%3D%3D?line=2'>3</a>\u001b[0m         sweep_lattice(lattice\u001b[39m=\u001b[39;49mlattice, T\u001b[39m=\u001b[39;49mT)\n",
      "\u001b[1;32m/Users/huriyeertay/Desktop/project_ising/ising/isingclass.ipynb Cell 14\u001b[0m in \u001b[0;36msweep_lattice\u001b[0;34m(lattice, T)\u001b[0m\n\u001b[1;32m     <a href='vscode-notebook-cell:/Users/huriyeertay/Desktop/project_ising/ising/isingclass.ipynb#X26sZmlsZQ%3D%3D?line=14'>15</a>\u001b[0m exchange_energy \u001b[39m=\u001b[39m energy_flipped \u001b[39m-\u001b[39m energy_initial\n\u001b[1;32m     <a href='vscode-notebook-cell:/Users/huriyeertay/Desktop/project_ising/ising/isingclass.ipynb#X26sZmlsZQ%3D%3D?line=15'>16</a>\u001b[0m lattice\u001b[39m.\u001b[39mflip_spin(i,j)\n\u001b[1;32m     <a href='vscode-notebook-cell:/Users/huriyeertay/Desktop/project_ising/ising/isingclass.ipynb#X26sZmlsZQ%3D%3D?line=16'>17</a>\u001b[0m \u001b[39mif\u001b[39;00m exchange_energy \u001b[39m<\u001b[39m\u001b[39m=\u001b[39m \u001b[39m0\u001b[39m \u001b[39mor\u001b[39;00m \\\n\u001b[0;32m---> <a href='vscode-notebook-cell:/Users/huriyeertay/Desktop/project_ising/ising/isingclass.ipynb#X26sZmlsZQ%3D%3D?line=17'>18</a>\u001b[0m     np\u001b[39m.\u001b[39;49mrandom\u001b[39m.\u001b[39;49mrandom()\u001b[39m<\u001b[39m\u001b[39m=\u001b[39mnp\u001b[39m.\u001b[39mexp(\u001b[39m-\u001b[39mexchange_energy\u001b[39m/\u001b[39mT):\n\u001b[1;32m     <a href='vscode-notebook-cell:/Users/huriyeertay/Desktop/project_ising/ising/isingclass.ipynb#X26sZmlsZQ%3D%3D?line=18'>19</a>\u001b[0m     lattice\u001b[39m.\u001b[39mflip_spin(i,j)\n",
      "\u001b[0;31mKeyboardInterrupt\u001b[0m: "
     ]
    }
   ],
   "source": [
    "ene, mag = mc_simulation(lattice=test_lattice_2, T=T,num_sweeps=500, num_sample=10)"
   ]
  },
  {
   "cell_type": "code",
   "execution_count": null,
   "metadata": {},
   "outputs": [
    {
     "data": {
      "text/plain": [
       "<matplotlib.collections.PathCollection at 0x7fb718633370>"
      ]
     },
     "execution_count": 52,
     "metadata": {},
     "output_type": "execute_result"
    },
    {
     "data": {
      "image/png": "[encoded data removed]",
      "text/plain": [
       "<Figure size 432x288 with 1 Axes>"
      ]
     },
     "metadata": {
      "needs_background": "light"
     },
     "output_type": "display_data"
    }
   ],
   "source": [
    "plt.scatter(T,ene)"
   ]
  },
  {
   "cell_type": "code",
   "execution_count": null,
   "metadata": {},
   "outputs": [
    {
     "data": {
      "text/plain": [
       "<matplotlib.collections.PathCollection at 0x7fb71c06cfa0>"
      ]
     },
     "execution_count": 54,
     "metadata": {},
     "output_type": "execute_result"
    },
    {
     "data": {
      "image/png": "[encoded data removed]",
      "text/plain": [
       "<Figure size 432x288 with 1 Axes>"
      ]
     },
     "metadata": {
      "needs_background": "light"
     },
     "output_type": "display_data"
    }
   ],
   "source": [
    "plt.scatter(T,np.abs(mag))"
   ]
  },
  {
   "cell_type": "code",
   "execution_count": null,
   "metadata": {},
   "outputs": [],
   "source": []
  }
 ],
 "metadata": {
  "kernelspec": {
   "display_name": "subat",
   "language": "python",
   "name": "python3"
  },
  "language_info": {
   "codemirror_mode": {
    "name": "ipython",
    "version": 3
   },
   "file_extension": ".py",
   "mimetype": "text/x-python",
   "name": "python",
   "nbconvert_exporter": "python",
   "pygments_lexer": "ipython3",
   "version": "3.9.16"
  },
  "orig_nbformat": 4,
  "vscode": {
   "interpreter": {
    "hash": "7bc6fc9399d27a6d05472b638dd62bf4b5f9c0f4e6eab6c334461b998306512a"
   }
  }
 },
 "nbformat": 4,
 "nbformat_minor": 2
}
